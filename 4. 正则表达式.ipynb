{
 "cells": [
  {
   "cell_type": "markdown",
   "metadata": {},
   "source": [
    "在编程语言中，正则表达式(Regular Expression)被用于字符串的检索和匹配。在本篇中，我们将会展示正则表达式的用法。\n",
    "在Python中，正则表达式通过re module实现。"
   ]
  },
  {
   "cell_type": "markdown",
   "metadata": {},
   "source": [
    "### 特殊字符\n",
    "模式    描述                \n",
    "\n",
    "^\t匹配字符串的开头\n",
    "\n",
    "$\t匹配字符串的末尾。\n",
    "\n",
    ".\t匹配任意字符，除了换行符，当re.DOTALL标记被指定时，则可以匹配包括换行符的任意字符。\n",
    "\n",
    "[...]\t用来表示一组字符,单独列出：[amk] 匹配 'a'，'m'或'k'\n",
    "\n",
    "[^...]\t不在[]中的字符：[^abc] 匹配除了a,b,c之外的字符。\n",
    "\n",
    "re*\t匹配0个或多个的表达式。\n",
    "\n",
    "re+\t匹配1个或多个的表达式。\n",
    "\n",
    "re?\t匹配0个或1个由前面的正则表达式定义的片段，非贪婪方式\n",
    "\n",
    "re{n}\t精确匹配 n 个前面表达式。例如， o{2} 不能匹配 \"Bob\" 中的 \"o\"，但是能匹配 \"food\" 中的两个 o。\n",
    "\n",
    "re{n,}\t匹配至少n 个前面表达式。例如， o{2,} 不能匹配\"Bob\"中的\"o\"，但能匹配 \"foooood\"中的所有 o。\"o{1,}\" 等价于 \"o+\"。\"o{0,}\" 则等价于 \"o*\"。\n",
    "\n",
    "re{n,m}\t匹配 n 到 m 次由前面的正则表达式定义的片段，贪婪方式\n",
    "a| b\t匹配a或b\n",
    "\n",
    "(re)\t匹配括号内的表达式，也表示一个组\n",
    "\n",
    "(?imx)\t正则表达式包含三种可选标志：i, m, 或 x 。只影响括号中的区域。\n",
    "\n",
    "(?-imx)\t正则表达式关闭 i, m, 或 x 可选标志。只影响括号中的区域。\n",
    "\n",
    "(?: re)\t类似 (...), 但是不表示一个组\n",
    "\n",
    "(?imx: re)\t在括号中使用i, m, 或 x 可选标志\n",
    "\n",
    "(?-imx: re)\t在括号中不使用i, m, 或 x 可选标志\n",
    "\n",
    "(?#...)\t注释.\n",
    "\n",
    "(?= re)\t前向肯定界定符。如果所含正则表达式，以 ... 表示，在当前位置成功匹配时成功，否则失败。但一旦所含表达式已经尝试，匹配引擎根本没有提高；模式的剩余部分还要尝试界定符的右边。\n",
    "\n",
    "(?! re)\t前向否定界定符。与肯定界定符相反；当所含表达式不能在字符串当前位置匹配时成功\n",
    "\n",
    "(?> re)\t匹配的独立模式，省去回溯。\n",
    "\n",
    "\\w\t匹配字母数字及下划线\n",
    "\n",
    "\\W\t匹配非字母数字及下划线\n",
    "\n",
    "\\s\t匹配任意空白字符，等价于 [\\t\\n\\r\\f].\n",
    "\n",
    "\\S\t匹配任意非空字符\n",
    "\n",
    "\\d\t匹配任意数字，等价于 [0-9].\n",
    "\n",
    "\\D\t匹配任意非数字\n",
    "\n",
    "\\A\t匹配字符串开始\n",
    "\n",
    "\\Z\t匹配字符串结束，如果是存在换行，只匹配到换行前的结束字符串。\n",
    "\n",
    "\\z\t匹配字符串结束\n",
    "\n",
    "\\G\t匹配最后匹配完成的位置。\n",
    "\n",
    "\\b\t匹配一个单词边界，也就是指单词和空格间的位置。例如， 'er\\b' 可以匹配\"never\" 中的 'er'，但不能匹配 \"verb\" 中的 'er'。\n",
    "\n",
    "\\B\t匹配非单词边界。'er\\B' 能匹配 \"verb\" 中的 'er'，但不能匹配 \"never\" 中的 'er'。\n",
    "\n",
    "\\n, \\t, 等.\t匹配一个换行符。匹配一个制表符。等\n",
    "\n",
    "\\1...\\9\t匹配第n个分组的内容。\n",
    "\n",
    "\\10\t匹配第n个分组的内容，如果它经匹配。否则指的是八进制字符码的表达式。"
   ]
  },
  {
   "cell_type": "markdown",
   "metadata": {},
   "source": [
    "#### 特殊字符使用举例\n",
    "[Pp]ython\t匹配 \"Python\" 或 \"python\"\n",
    "\n",
    "rub[ye]\t匹配 \"ruby\" 或 \"rube\"\n",
    "\n",
    "[aeiou]\t匹配中括号内的任意一个字母\n",
    "\n",
    "[0-9]\t匹配任何数字。类似于 [0123456789]\n",
    "\n",
    "[a-z]\t匹配任何小写字母\n",
    "\n",
    "[A-Z]\t匹配任何大写字母\n",
    "\n",
    "[a-zA-Z0-9]\t匹配任何字母及数字\n",
    "\n",
    "[^aeiou]\t除了aeiou字母以外的所有字符\n",
    "\n",
    "[^0-9]\t匹配除了数字外的字符"
   ]
  },
  {
   "cell_type": "markdown",
   "metadata": {},
   "source": [
    "#### 正则表达式修饰符 - 可选标志\n",
    "正则表达式可以包含一些可选标志修饰符来控制匹配的模式。修饰符被指定为一个可选的标志。多个标志可以通过按位 OR(|) 它们来指定。如 re.I | re.M 被设置成 I 和 M 标志：\n",
    "\n",
    "修饰符\t描述\n",
    "\n",
    "re.I 忽略大小写\n",
    "\n",
    "re.L 表示特殊字符集 \\w, \\W, \\b, \\B, \\s, \\S 依赖于当前环境\n",
    "\n",
    "re.M 多行模式\n",
    "\n",
    "re.S 即为 . 并且包括换行符在内的任意字符（. 不包括换行符）\n",
    "\n",
    "re.U 表示特殊字符集 \\w, \\W, \\b, \\B, \\d, \\D, \\s, \\S 依赖于 Unicode 字符属性数据库\n",
    "\n",
    "re.X 为了增加可读性，忽略空格和 # 后面的注释"
   ]
  },
  {
   "cell_type": "code",
   "execution_count": 1,
   "metadata": {
    "scrolled": true
   },
   "outputs": [
    {
     "name": "stdout",
     "output_type": "stream",
     "text": [
      "re.match 函数\n",
      "(0, 3)\n",
      "None \n",
      "\n",
      "re.search 函数\n",
      "(0, 3)\n",
      "(3, 6) \n",
      "\n",
      "re.sub 函数\n",
      "电话号码是:  2004-959-559 \n",
      "电话号码是 :  2004959559 \n",
      "\n",
      "re.findall 函数\n",
      "['123', '456']\n",
      "['88', '12'] \n",
      "\n",
      "re.finditer 函数\n",
      "12 \n",
      "\n",
      "32 \n",
      "\n",
      "43 \n",
      "\n",
      "3 \n",
      "\n",
      "re.split 函数\n",
      "['runoob', 'runoob', 'runoob', '']\n",
      "['', ' ', 'runoob', ', ', 'runoob', ', ', 'runoob', '.', '']\n",
      "['', 'runoob, runoob, runoob.']\n",
      "['hello world']\n"
     ]
    },
    {
     "name": "stderr",
     "output_type": "stream",
     "text": [
      "d:\\python\\lib\\re.py:212: FutureWarning: split() requires a non-empty pattern match.\n",
      "  return _compile(pattern, flags).split(string, maxsplit)\n"
     ]
    }
   ],
   "source": [
    "import re\n",
    "# re.match 从起始位置匹配\n",
    "print(\"re.match 函数\")\n",
    "print(re.match(\"str\",\"string\").span())# 起始位置匹配成功\n",
    "print(re.match(\"ing\",\"string\"),\"\\n\")       # 起始位置匹配失败\n",
    "\n",
    "# re.search 扫描字符串并返回第一个成功的匹配\n",
    "print(\"re.search 函数\")\n",
    "print(re.search(\"str\",\"string\").span())# 起始位置匹配成功\n",
    "print(re.search(\"ing\",\"string\").span(),\"\\n\")       # 起始位置匹配失败\n",
    "\n",
    "# re.sub 提供替换功能\n",
    "print(\"re.sub 函数\")\n",
    "phone = \"2004-959-559 # 这是一个国外电话号码\"\n",
    "num = re.sub(r'#.*$', \"\", phone) # 所有注释被替换为了空\n",
    "print(\"电话号码是: \", num)\n",
    "num = re.sub(r'\\D', \"\", phone)   # 所有非数字被替换为了空\n",
    "print(\"电话号码是 : \", num,\"\\n\")\n",
    "\n",
    "# re.findall 在字符串中找到正则表达式所匹配的所有子串，并返回一个列表，如果没有找到匹配的，则返回空列表。\n",
    "# 注意： match 和 search 是匹配一次 findall 匹配所有。\n",
    "print(\"re.findall 函数\")\n",
    "pattern = re.compile(r'\\d+')   # 查找数字\n",
    "result1 = pattern.findall('runoob 123 google 456')\n",
    "result2 = pattern.findall('run88oob123google456', 0, 10)\n",
    "print(result1)\n",
    "print(result2,\"\\n\")\n",
    "\n",
    "# re.finditer 和 findall 类似，在字符串中找到正则表达式所匹配的所有子串，并把它们作为一个迭代器返回。\n",
    "print(\"re.finditer 函数\")\n",
    "it = re.finditer(r\"\\d+\",\"12a32bc43jf3\") \n",
    "for match in it: \n",
    "    print (match.group(),\"\\n\")\n",
    "    \n",
    "# re.split 方法按照能够匹配的子串将字符串分割后返回列表\n",
    "print(\"re.split 函数\")\n",
    "print(re.split('\\W+', 'runoob, runoob, runoob.'))\n",
    "print(re.split('(\\W+)', ' runoob, runoob, runoob.'))\n",
    "print(re.split('\\W+', ' runoob, runoob, runoob.', 1)) # 分隔次数，maxsplit=1 分隔一次，默认为 0，不限制次数。\n",
    "print(re.split('a*', 'hello world'))   # 对于一个找不到匹配的字符串而言，split 不会对其作出分割"
   ]
  },
  {
   "cell_type": "markdown",
   "metadata": {},
   "source": [
    "#### groups函数\n",
    "match, search如果匹配成功，会返回一个匹配对象。我们可以使用group(num), groups()来获取匹配表达式。\n",
    "\n",
    "匹配对象方法\t描述\n",
    "\n",
    "group(num=0)\t匹配的整个表达式的字符串，group() 可以一次输入多个组号，在这种情况下它将返回一个包含那些组所对应值的元组。\n",
    "\n",
    "groups()\t返回一个包含所有小组字符串的元组，从 1 到 所含的小组号。\n",
    "\n",
    "re.MatchObject\n",
    "group() 返回被 RE 匹配的字符串。\n",
    "\n",
    " - start() 返回匹配开始的位置\n",
    " - end() 返回匹配结束的位置\n",
    " - span() 返回一个元组包含匹配 (开始,结束) 的位置"
   ]
  },
  {
   "cell_type": "code",
   "execution_count": 2,
   "metadata": {},
   "outputs": [
    {
     "name": "stdout",
     "output_type": "stream",
     "text": [
      "matchObj.group() :  Cats are smarter than dogs\n",
      "matchObj.group(1) :  Cats\n",
      "matchObj.group(2) :  smarter\n"
     ]
    }
   ],
   "source": [
    "line = \"Cats are smarter than dogs\"\n",
    " \n",
    "matchObj = re.match( r'(.*) are (.*?) .*', line, re.M|re.I)\n",
    " \n",
    "if matchObj:\n",
    "   print(\"matchObj.group() : \", matchObj.group())\n",
    "   print(\"matchObj.group(1) : \", matchObj.group(1)) \n",
    "   print(\"matchObj.group(2) : \", matchObj.group(2)) \n",
    "else:\n",
    "   print(\"No match!!\") "
   ]
  },
  {
   "cell_type": "markdown",
   "metadata": {},
   "source": [
    "#### match, search的区别"
   ]
  },
  {
   "cell_type": "code",
   "execution_count": 3,
   "metadata": {
    "scrolled": true
   },
   "outputs": [
    {
     "name": "stdout",
     "output_type": "stream",
     "text": [
      "No match!!\n",
      "search --> matchObj.group() :  dogs\n"
     ]
    }
   ],
   "source": [
    "line = \"Cats are smarter than dogs\";\n",
    " \n",
    "matchObj = re.match( r'dogs', line, re.M|re.I)\n",
    "if matchObj:\n",
    "   print(\"match --> matchObj.group() : \", matchObj.group()) \n",
    "else:\n",
    "   print(\"No match!!\") \n",
    " \n",
    "matchObj = re.search( r'dogs', line, re.M|re.I)\n",
    "if matchObj:\n",
    "   print(\"search --> matchObj.group() : \", matchObj.group()) \n",
    "else:\n",
    "   print(\"No match!!\") "
   ]
  },
  {
   "cell_type": "markdown",
   "metadata": {},
   "source": [
    "#### 函数作为参数\n",
    "此处，我们使用一种捕获方法，[命名捕获](https://www.crifan.com/detailed_explanation_about_python_regular_express_named_group/)。"
   ]
  },
  {
   "cell_type": "code",
   "execution_count": 4,
   "metadata": {
    "scrolled": true
   },
   "outputs": [
    {
     "name": "stdout",
     "output_type": "stream",
     "text": [
      "A46G8HFD1134\n"
     ]
    }
   ],
   "source": [
    "# 将匹配的数字乘以 2\n",
    "def double(matched):\n",
    "    value = int(matched.group('value'))\n",
    "    return str(value * 2)\n",
    "\n",
    "s = 'A23G4HFD567'\n",
    "# 捕获数字，并命名为value，数值乘2之后替换原数字。\n",
    "print(re.sub('(?P<value>\\d+)', double, s))"
   ]
  },
  {
   "cell_type": "markdown",
   "metadata": {},
   "source": [
    "#### re.compile函数\n",
    "compile 函数用于编译正则表达式，生成一个正则表达式（ Pattern ）对象，供 match() 和 search() 这两个函数使用。"
   ]
  },
  {
   "cell_type": "code",
   "execution_count": 5,
   "metadata": {},
   "outputs": [
    {
     "name": "stdout",
     "output_type": "stream",
     "text": [
      "None\n",
      "None\n",
      "<_sre.SRE_Match object; span=(3, 5), match='12'>\n",
      "12\n",
      "3\n",
      "5\n",
      "(3, 5)\n"
     ]
    }
   ],
   "source": [
    "pattern = re.compile(r'\\d+')                    # 用于匹配至少一个数字\n",
    "m = pattern.match('one12twothree34four')        # 查找头部，没有匹配\n",
    "print(m)\n",
    "\n",
    "m = pattern.match('one12twothree34four', 2, 10) # 从'e'的位置开始匹配，没有匹配\n",
    "print(m)\n",
    "\n",
    "m = pattern.match('one12twothree34four', 3, 10) # 从'1'的位置开始匹配，正好匹配\n",
    "print(m)                                         # 返回一个 Match 对象\n",
    "\n",
    "print(m.group(0))   # 返回匹配到的字符串\n",
    "\n",
    "print(m.start(0))   # 返回匹配的首位置\n",
    "\n",
    "print(m.end(0))     # 返回匹配的末位置\n",
    "\n",
    "print(m.span(0))    # 返回匹配的位置范围"
   ]
  },
  {
   "cell_type": "code",
   "execution_count": 6,
   "metadata": {},
   "outputs": [
    {
     "name": "stdout",
     "output_type": "stream",
     "text": [
      "<_sre.SRE_Match object; span=(0, 11), match='Hello World'>\n",
      "Hello World\n",
      "(0, 11)\n",
      "Hello\n",
      "(0, 5)\n",
      "World\n",
      "(6, 11)\n",
      "('Hello', 'World')\n"
     ]
    }
   ],
   "source": [
    "pattern = re.compile(r'([a-z]+) ([a-z]+)', re.I)   # re.I 表示忽略大小写\n",
    "m = pattern.match('Hello World Wide Web')\n",
    "print(m)                           # 匹配成功，返回一个 Match 对象\n",
    "print(m.group(0))                  # 返回匹配成功的整个子串\n",
    "print(m.span(0))                   # 返回匹配成功的整个子串的索引\n",
    "print(m.group(1))                  # 返回第一个分组匹配成功的子串\n",
    "print(m.span(1))                   # 返回第一个分组匹配成功的子串的索引\n",
    "print(m.group(2))                  # 返回第二个分组匹配成功的子串\n",
    "print(m.span(2))                   # 返回第二个分组匹配成功的子串\n",
    "print(m.groups())                  # 等价于 (m.group(1), m.group(2), ...)"
   ]
  }
 ],
 "metadata": {
  "kernelspec": {
   "display_name": "Python 3",
   "language": "python",
   "name": "python3"
  },
  "language_info": {
   "codemirror_mode": {
    "name": "ipython",
    "version": 3
   },
   "file_extension": ".py",
   "mimetype": "text/x-python",
   "name": "python",
   "nbconvert_exporter": "python",
   "pygments_lexer": "ipython3",
   "version": "3.6.6"
  }
 },
 "nbformat": 4,
 "nbformat_minor": 2
}
