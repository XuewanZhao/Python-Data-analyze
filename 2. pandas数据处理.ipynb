{
 "cells": [
  {
   "cell_type": "markdown",
   "metadata": {},
   "source": [
    "### 1.基础方法：[ ]和.\n",
    "\n",
    "这是两种最直观的方法，任何有面向对象编程经验的人应该都很容易理解。下面是一个代码示例："
   ]
  },
  {
   "cell_type": "code",
   "execution_count": 1,
   "metadata": {
    "scrolled": true
   },
   "outputs": [
    {
     "name": "stdout",
     "output_type": "stream",
     "text": [
      "series1['E'] = 3 \n",
      "\n",
      "series1.E = 3 \n",
      "\n"
     ]
    }
   ],
   "source": [
    "import pandas as pd\n",
    "import numpy as np\n",
    "\n",
    "series1 = pd.Series([1, 2, 3, 4, 5, 6, 7],\n",
    "    index=[\"C\", \"D\", \"E\", \"F\", \"G\", \"A\", \"B\"])\n",
    "\n",
    "print(\"series1['E'] = {} \\n\".format(series1['E']));\n",
    "print(\"series1.E = {} \\n\".format(series1.E));\n"
   ]
  },
  {
   "cell_type": "markdown",
   "metadata": {},
   "source": [
    "注1：对于类似属性的访问方式.来说，要求索引元素必须是有效的Python标识符的时候才可以，而对于series1.1这样的索引是不行的。\n",
    "\n",
    "注2：[]和.提供了简单和快速访问pands数据结构的方法。这种方法非常的直观。然而，由于要访问的数据类型并不是事先知道的，因此使用这两种方法方式存在一些优化限制。因此对于产品级的代码来说，pandas官方建议使用pandas库中提供的数据访问方法。"
   ]
  },
  {
   "cell_type": "markdown",
   "metadata": {},
   "source": [
    "### 2.loc与iloc\n",
    "\n",
    "loc：通过行和列的索引来访问数据\n",
    "iloc：通过行和列的下标来访问数据\n",
    "注意：索引的类型可能是整数。\n",
    "\n",
    "实际上，当DataFrame通过这两个操作符访问数据，可以只指定一个索引来访问一行的数据，例如："
   ]
  },
  {
   "cell_type": "code",
   "execution_count": 3,
   "metadata": {
    "scrolled": true
   },
   "outputs": [
    {
     "name": "stdout",
     "output_type": "stream",
     "text": [
      "df1.loc['2']:\n",
      "note         D\n",
      "weekday    Tue\n",
      "Name: 2, dtype: object\n",
      "\n",
      "series1.loc['E':'A']=\n",
      "E    3\n",
      "F    4\n",
      "G    5\n",
      "A    6\n",
      "dtype: int64\n",
      "\n",
      "df1.iloc[2:4]=\n",
      "  note weekday\n",
      "3    E     Wed\n",
      "4    F     Thu\n",
      "\n"
     ]
    }
   ],
   "source": [
    "df1 = pd.DataFrame({\"note\" : [\"C\", \"D\", \"E\", \"F\", \"G\", \"A\", \"B\"],\n",
    "    \"weekday\": [\"Mon\", \"Tue\", \"Wed\", \"Thu\", \"Fri\", \"Sat\", \"Sun\"]},\n",
    "    index=['1', '2', '3', '4', '5', '6', '7'])\n",
    "\n",
    "# 这里通过索引'2'可以方法到第2行的所有数据\n",
    "print(\"df1.loc['2']:\\n{}\\n\".format(df1.loc['2']))\n",
    "\n",
    "# 除此之外，通过这两个操作符我们还可以访问某个范围之内的数据，例如这样：\n",
    "print(\"series1.loc['E':'A']=\\n{}\\n\".format(series1.loc['E':'A']));\n",
    "print(\"df1.iloc[2:4]=\\n{}\\n\".format(df1.iloc[2:4]))\n",
    " "
   ]
  },
  {
   "cell_type": "markdown",
   "metadata": {},
   "source": [
    "### 3.at与iat\n",
    "这两个操作符用来访问单个的元素值（Scalar Value）。类似的：\n",
    "\n",
    "at：通过行和列的索引来访问数据\n",
    "iat：通过行和列的下标来访问数据"
   ]
  },
  {
   "cell_type": "code",
   "execution_count": 4,
   "metadata": {},
   "outputs": [
    {
     "name": "stdout",
     "output_type": "stream",
     "text": [
      "series1.at['E']=3\n",
      "\n",
      "df1.iloc[4,1]=Fri\n",
      "\n"
     ]
    }
   ],
   "source": [
    "print(\"series1.at['E']={}\\n\".format(series1.at['E']));\n",
    "print(\"df1.iloc[4,1]={}\\n\".format(df1.iloc[4,1]))"
   ]
  },
  {
   "cell_type": "markdown",
   "metadata": {},
   "source": [
    "### 4.Index对象\n",
    "\n",
    "Index提供了查找，数据对齐和重新索引所需的基础数据结构。 最直接的，我们可以通过一个数组来创建Index对象。在创建的同时我们还可以通过name指定索引的名称："
   ]
  },
  {
   "cell_type": "code",
   "execution_count": 6,
   "metadata": {},
   "outputs": [],
   "source": [
    "index = pd.Index(['C','D','E','F','G','A','B'], name='note')"
   ]
  },
  {
   "cell_type": "markdown",
   "metadata": {},
   "source": [
    "Index类提供了很多的方法进行各种操作，这个建议读者直接查询API说明即可，这里不多做说明。稍微提一下的是，Index对象可以互相之间做集合操作:"
   ]
  },
  {
   "cell_type": "code",
   "execution_count": 5,
   "metadata": {},
   "outputs": [
    {
     "name": "stdout",
     "output_type": "stream",
     "text": [
      "a|b = Int64Index([1, 2, 3, 4, 5, 6, 7], dtype='int64')\n",
      "\n",
      "a&b = Int64Index([3, 4, 5], dtype='int64')\n",
      "\n",
      "a.difference(b) = Int64Index([1, 2], dtype='int64')\n",
      "\n"
     ]
    }
   ],
   "source": [
    "a = pd.Index([1,2,3,4,5])\n",
    "b = pd.Index([3,4,5,6,7])\n",
    " \n",
    "print(\"a|b = {}\\n\".format(a|b))\n",
    "print(\"a&b = {}\\n\".format(a&b))\n",
    "print(\"a.difference(b) = {}\\n\".format(a.difference(b)))"
   ]
  },
  {
   "cell_type": "markdown",
   "metadata": {},
   "source": [
    "Index类有很多的子类，下面是最常见的一些：\n",
    "\n",
    " - [RangeIndex](http://pandas.pydata.org/pandas-docs/stable/generated/pandas.RangeIndex.html#pandas.RangeIndex)\n",
    " - [CategoricalIndex](http://pandas.pydata.org/pandas-docs/stable/generated/pandas.CategoricalIndex.html#pandas.CategoricalIndex)\n",
    " - [MultiIndex](http://pandas.pydata.org/pandas-docs/stable/generated/pandas.MultiIndex.html#pandas.MultiIndex)\n",
    " - [IntervalIndex](http://pandas.pydata.org/pandas-docs/stable/generated/pandas.IntervalIndex.html#pandas.IntervalIndex)\n",
    " - [DatetimeIndex](http://pandas.pydata.org/pandas-docs/stable/generated/pandas.DatetimeIndex.html#pandas.DatetimeIndex)\n",
    " - …"
   ]
  },
  {
   "cell_type": "markdown",
   "metadata": {},
   "source": [
    "### 5.MultiIndex\n",
    "MultiIndex，或者称之为Hierarchical Index是指数据的行或者列通过多层次的标签来进行索引。 例如，我们要通过一个MultiIndex描述三个公司在三年内每个季度的营业额，可以这样："
   ]
  },
  {
   "cell_type": "code",
   "execution_count": 8,
   "metadata": {
    "scrolled": true
   },
   "outputs": [
    {
     "name": "stdout",
     "output_type": "stream",
     "text": [
      "MultiIndex(levels=[['Epple', 'Geagle', 'Macrosoft'], ['S1', 'S2', 'S3', 'S4']],\n",
      "           labels=[[1, 1, 1, 1, 0, 0, 0, 0, 2, 2, 2, 2], [0, 1, 2, 3, 0, 1, 2, 3, 0, 1, 2, 3]],\n",
      "           names=['Company', 'Turnover'])\n"
     ]
    }
   ],
   "source": [
    "import pandas as pd\n",
    "import numpy as np\n",
    "\n",
    "multiIndex = pd.MultiIndex.from_arrays([\n",
    "    ['Geagle', 'Geagle', 'Geagle', 'Geagle',\n",
    "     'Epple', 'Epple', 'Epple', 'Epple', 'Macrosoft',\n",
    "     'Macrosoft', 'Macrosoft', 'Macrosoft', ],\n",
    "    ['S1', 'S2', 'S3', 'S4', 'S1', 'S2', 'S3', 'S4', 'S1', 'S2', 'S3', 'S4']],\n",
    "    names=('Company', 'Turnover'))\n",
    "\n",
    "print(multiIndex)"
   ]
  },
  {
   "cell_type": "markdown",
   "metadata": {},
   "source": [
    "从这个输出可以看出，MultiIndex中的levels数组数量对应了索引的级别数量，labels对应了levels中元素的下标。 下面我们用一个随机数来构造一个DataFrame："
   ]
  },
  {
   "cell_type": "code",
   "execution_count": 30,
   "metadata": {
    "scrolled": true
   },
   "outputs": [
    {
     "name": "stdout",
     "output_type": "stream",
     "text": [
      "df = \n",
      "Company  Geagle                Epple                Macrosoft               \n",
      "Turnover     S1   S2   S3   S4    S1   S2   S3   S4        S1   S2   S3   S4\n",
      "2016        920  490  410  144    99  411  109  737       346  155  466  957\n",
      "2017        636  431  666  633   652  594  910  531       318  883  802  645\n",
      "2018        258  947  913  507   683  584  178  365       737  620  587  317\n",
      "\n"
     ]
    }
   ],
   "source": [
    "df = pd.DataFrame(data=np.random.randint(0, 1000, 36).reshape(-1, 12),\n",
    "                  index=[2016, 2017, 2018],\n",
    "                  columns=multiIndex)\n",
    "print(\"df = \\n{}\\n\".format(df))"
   ]
  },
  {
   "cell_type": "markdown",
   "metadata": {},
   "source": [
    "这个输出很直观的可以看出三个公司在三年内每个季度的营业额。 有了多级索引，我们可以方便的进行数据的筛选，例如：\n",
    "\n",
    "通过df.loc[2017, (['Geagle', 'Epple', 'Macrosoft'] ,'S1')])筛选出三个公司2017年第一季度的营业额\n",
    "\n",
    "通过df.loc[2018, 'Geagle']筛选出Geagle公司2018年每个季度的营业额"
   ]
  },
  {
   "cell_type": "code",
   "execution_count": 35,
   "metadata": {},
   "outputs": [
    {
     "name": "stdout",
     "output_type": "stream",
     "text": [
      "True\n",
      "Company    Turnover\n",
      "Epple      S1          652\n",
      "Geagle     S1          636\n",
      "Macrosoft  S1          318\n",
      "Name: 2017, dtype: int32\n",
      "Turnover\n",
      "S1    258\n",
      "S2    947\n",
      "S3    913\n",
      "S4    507\n",
      "Name: 2018, dtype: int32\n"
     ]
    }
   ],
   "source": [
    "# df = df.sort_index(axis=1)\n",
    "# or\n",
    "# df.sort_index(level=['year','foo'], ascending=[1, 0], inplace=True)\n",
    "\n",
    "print (df.columns.is_lexsorted())\n",
    "\n",
    "print(df.loc[2017, (['Geagle', 'Epple', 'Macrosoft'],'S1')])\n",
    "\n",
    "print(df.loc[2018, 'Geagle'])"
   ]
  },
  {
   "cell_type": "markdown",
   "metadata": {},
   "source": [
    "### 6.数据整合\n",
    "Concat(enate)：串联，连接，级连\n",
    "\n",
    "Append：附加，增补\n",
    "\n",
    "Merge：融合，归并，合并\n",
    "\n",
    "Join：合并，接合，交接\n",
    "\n",
    "#### Concat与Append\n",
    "concat函数的作用是将多个数据串联到一起。例如，某个多条数据分散在3个地方记录，最后我们将三个数据添加到一起。下面是一个代码示例："
   ]
  },
  {
   "cell_type": "code",
   "execution_count": 37,
   "metadata": {},
   "outputs": [
    {
     "name": "stdout",
     "output_type": "stream",
     "text": [
      "df_concat=\n",
      "      Note Weekday\n",
      "df1 1    C     Mon\n",
      "    2    D     Tue\n",
      "df2 3    E     Wed\n",
      "    4    F     Thu\n",
      "df3 5    G     Fri\n",
      "    6    A     Sat\n",
      "    7    B     Sun\n",
      "\n",
      "df_concat_column=\n",
      "  Note Weekday Note Weekday Note Weekday\n",
      "1    C     Mon  NaN     NaN  NaN     NaN\n",
      "2    D     Tue  NaN     NaN  NaN     NaN\n",
      "3  NaN     NaN    E     Wed  NaN     NaN\n",
      "4  NaN     NaN    F     Thu  NaN     NaN\n",
      "5  NaN     NaN  NaN     NaN    G     Fri\n",
      "6  NaN     NaN  NaN     NaN    A     Sat\n",
      "7  NaN     NaN  NaN     NaN    B     Sun\n",
      "\n"
     ]
    }
   ],
   "source": [
    "import pandas as pd\n",
    "import numpy as np\n",
    "\n",
    "df1 = pd.DataFrame({'Note': ['C', 'D'],\n",
    "                    'Weekday': ['Mon', 'Tue']},\n",
    "                    index=[1, 2])\n",
    "\n",
    "df2 = pd.DataFrame({'Note': ['E', 'F'],\n",
    "                    'Weekday': ['Wed', 'Thu']},\n",
    "                    index=[3, 4])\n",
    "\n",
    "df3 = pd.DataFrame({'Note': ['G', 'A', 'B'],\n",
    "                    'Weekday': ['Fri', 'Sat', 'Sun']},\n",
    "                    index=[5, 6, 7])\n",
    "\n",
    "df_concat = pd.concat([df1, df2, df3], keys=['df1', 'df2', 'df3'])\n",
    "print(\"df_concat=\\n{}\\n\".format(df_concat))\n",
    "\n",
    "# 如果需要，我们可以指定axis=1（列）为主进行串联：\n",
    "df_concat_column = pd.concat([df1, df2, df3], axis=1)\n",
    "print(\"df_concat_column=\\n{}\\n\".format(df_concat_column))"
   ]
  },
  {
   "cell_type": "markdown",
   "metadata": {},
   "source": [
    "concat是将多个数据串联在一起。类似的，对于某个具体的数据来说，我们可以在其数据基础上添加（append）其他数据来进行串联."
   ]
  },
  {
   "cell_type": "code",
   "execution_count": 38,
   "metadata": {},
   "outputs": [
    {
     "name": "stdout",
     "output_type": "stream",
     "text": [
      "df_append=\n",
      "  Note Weekday\n",
      "1    C     Mon\n",
      "2    D     Tue\n",
      "3    E     Wed\n",
      "4    F     Thu\n",
      "5    G     Fri\n",
      "6    A     Sat\n",
      "7    B     Sun\n",
      "\n"
     ]
    }
   ],
   "source": [
    "df_append = df1.append([df2, df3])\n",
    "print(\"df_append=\\n{}\\n\".format(df_append))"
   ]
  },
  {
   "cell_type": "markdown",
   "metadata": {},
   "source": [
    "#### Merge与Join\n",
    "pandas中的Merge操作和SQL语句中的Join操作是类似的。Join操作可以分为下面几种：\n",
    "\n",
    " - INNER\n",
    " - LEFT OUTER\n",
    " - RIGHT OUTER\n",
    " - FULL OUTER\n",
    " - CROSS\n",
    " \n",
    "关于这几种的Join操作的含义请参阅其他资料，例如维基百科：[Join (SQL)](https://en.wikipedia.org/wiki/Join_(SQL))。 使用pandas进行Merge操作很简单，下面是一段代码示例："
   ]
  },
  {
   "cell_type": "code",
   "execution_count": 44,
   "metadata": {
    "scrolled": true
   },
   "outputs": [
    {
     "name": "stdout",
     "output_type": "stream",
     "text": [
      "df1=\n",
      "    A   B key\n",
      "0  A1  B1  K1\n",
      "1  A2  B2  K2\n",
      "2  A3  B3  K3\n",
      "3  A8  B8  K4\n",
      "\n",
      "df2=\n",
      "    A   B key\n",
      "0  A3  B3  K3\n",
      "1  A4  B4  K4\n",
      "2  A5  B5  K5\n",
      "3  A6  B6  K6\n",
      "\n",
      "merge_df=\n",
      "    A   B key\n",
      "0  A3  B3  K3\n",
      "\n",
      "merge_inner=\n",
      "  A_x B_x key A_y B_y\n",
      "0  A3  B3  K3  A3  B3\n",
      "1  A8  B8  K4  A4  B4\n",
      "\n",
      "merge_left=\n",
      "    A   B key\n",
      "0  A1  B1  K1\n",
      "1  A2  B2  K2\n",
      "2  A3  B3  K3\n",
      "3  A8  B8  K4\n",
      "\n",
      "merge_left_on_key=\n",
      "  A_x B_x key  A_y  B_y\n",
      "0  A1  B1  K1  NaN  NaN\n",
      "1  A2  B2  K2  NaN  NaN\n",
      "2  A3  B3  K3   A3   B3\n",
      "3  A8  B8  K4   A4   B4\n",
      "\n",
      "merge_right_on_key=\n",
      "   A_x  B_x key A_y B_y\n",
      "0   A3   B3  K3  A3  B3\n",
      "1   A8   B8  K4  A4  B4\n",
      "2  NaN  NaN  K5  A5  B5\n",
      "3  NaN  NaN  K6  A6  B6\n",
      "\n",
      "merge_outer=\n",
      "   A_x  B_x key  A_y  B_y\n",
      "0   A1   B1  K1  NaN  NaN\n",
      "1   A2   B2  K2  NaN  NaN\n",
      "2   A3   B3  K3   A3   B3\n",
      "3   A8   B8  K4   A4   B4\n",
      "4  NaN  NaN  K5   A5   B5\n",
      "5  NaN  NaN  K6   A6   B6\n",
      "\n"
     ]
    }
   ],
   "source": [
    "import pandas as pd\n",
    "import numpy as np\n",
    " \n",
    "df1 = pd.DataFrame({'key': ['K1', 'K2', 'K3', 'K4'],\n",
    "                    'A': ['A1', 'A2', 'A3', 'A8'],\n",
    "                    'B': ['B1', 'B2', 'B3', 'B8']})\n",
    " \n",
    "df2 = pd.DataFrame({'key': ['K3', 'K4', 'K5', 'K6'],\n",
    "                    'A': ['A3', 'A4', 'A5', 'A6'],\n",
    "                    'B': ['B3', 'B4', 'B5', 'B6']})\n",
    " \n",
    "print(\"df1=\\n{}\\n\".format(df1))\n",
    "print(\"df2=\\n{}\\n\".format(df2))\n",
    " \n",
    "merge_df = pd.merge(df1, df2)\n",
    "merge_inner = pd.merge(df1, df2, how='inner', on=['key'])\n",
    "merge_left = pd.merge(df1, df2, how='left')\n",
    "merge_left_on_key = pd.merge(df1, df2, how='left', on=['key'])\n",
    "merge_right_on_key = pd.merge(df1, df2, how='right', on=['key'])\n",
    "merge_outer = pd.merge(df1, df2, how='outer', on=['key'])\n",
    " \n",
    "print(\"merge_df=\\n{}\\n\".format(merge_df))\n",
    "print(\"merge_inner=\\n{}\\n\".format(merge_inner))\n",
    "print(\"merge_left=\\n{}\\n\".format(merge_left))\n",
    "print(\"merge_left_on_key=\\n{}\\n\".format(merge_left_on_key))\n",
    "print(\"merge_right_on_key=\\n{}\\n\".format(merge_right_on_key))\n",
    "print(\"merge_outer=\\n{}\\n\".format(merge_outer))"
   ]
  },
  {
   "cell_type": "markdown",
   "metadata": {},
   "source": [
    "这段代码说明如下：\n",
    "\n",
    "merge函数的join参数的默认值是“inner”，因此merge_df是两个数据的inner join的结果。另外，在不指明的情况下，merge函数使用所有同名的列名作为key来进行运算。\n",
    "\n",
    " - merge_inner是指定了列的名称进行inner join。\n",
    " - merge_left是left outer join的结果\n",
    " - merge_left_on_key是指定了列名进行left outer join的结果\n",
    " - merge_right_on_key是指定了列名进行right outer join的结果\n",
    " - merge_outer是full outer join的结果"
   ]
  },
  {
   "cell_type": "markdown",
   "metadata": {},
   "source": [
    "DataFrame也提供了join函数来根据索引进行数据合并。它可以被用于合并多个DataFrame，这些DataFrame有相同的或者类似的索引，但是没有重复的列名。默认情况下，join函数执行left join。另外，假设两个数据有相同的列名，我们可以通过lsuffix和rsuffix来指定结果中列名的前缀。下面是一段代码示例："
   ]
  },
  {
   "cell_type": "code",
   "execution_count": 45,
   "metadata": {
    "scrolled": true
   },
   "outputs": [
    {
     "name": "stdout",
     "output_type": "stream",
     "text": [
      "df3=\n",
      "    A   B key\n",
      "0  A1  B1  K1\n",
      "1  A2  B2  K2\n",
      "2  A3  B3  K3\n",
      "3  A8  B8  K4\n",
      "\n",
      "df4=\n",
      "    C   D key\n",
      "1  A3  B3  K3\n",
      "2  A4  B4  K4\n",
      "3  A5  B5  K5\n",
      "4  A6  B6  K6\n",
      "\n",
      "join_df=\n",
      "    A   B key_self    C    D key_other\n",
      "0  A1  B1       K1  NaN  NaN       NaN\n",
      "1  A2  B2       K2   A3   B3        K3\n",
      "2  A3  B3       K3   A4   B4        K4\n",
      "3  A8  B8       K4   A5   B5        K5\n",
      "\n",
      "join_left=\n",
      "    A   B key_self    C    D key_other\n",
      "0  A1  B1       K1  NaN  NaN       NaN\n",
      "1  A2  B2       K2   A3   B3        K3\n",
      "2  A3  B3       K3   A4   B4        K4\n",
      "3  A8  B8       K4   A5   B5        K5\n",
      "\n",
      "join_right=\n",
      "     A    B key_self    C    D key_other\n",
      "0   A1   B1       K1  NaN  NaN       NaN\n",
      "1   A2   B2       K2   A3   B3        K3\n",
      "2   A3   B3       K3   A4   B4        K4\n",
      "3   A8   B8       K4   A5   B5        K5\n",
      "4  NaN  NaN      NaN   A6   B6        K6\n",
      "\n"
     ]
    }
   ],
   "source": [
    "df3 = pd.DataFrame({'key': ['K1', 'K2', 'K3', 'K4'],\n",
    "                    'A': ['A1', 'A2', 'A3', 'A8'],\n",
    "                    'B': ['B1', 'B2', 'B3', 'B8']},\n",
    "                    index=[0, 1, 2, 3])\n",
    " \n",
    "df4 = pd.DataFrame({'key': ['K3', 'K4', 'K5', 'K6'],\n",
    "                    'C': ['A3', 'A4', 'A5', 'A6'],\n",
    "                    'D': ['B3', 'B4', 'B5', 'B6']},\n",
    "                    index=[1, 2, 3, 4])\n",
    " \n",
    "print(\"df3=\\n{}\\n\".format(df3))\n",
    "print(\"df4=\\n{}\\n\".format(df4))\n",
    " \n",
    "join_df = df3.join(df4, lsuffix='_self', rsuffix='_other')\n",
    "join_left = df3.join(df4, how='left', lsuffix='_self', rsuffix='_other')\n",
    "join_right = df1.join(df4, how='outer', lsuffix='_self', rsuffix='_other')\n",
    " \n",
    "print(\"join_df=\\n{}\\n\".format(join_df))\n",
    "print(\"join_left=\\n{}\\n\".format(join_left))\n",
    "print(\"join_right=\\n{}\\n\".format(join_right))"
   ]
  },
  {
   "cell_type": "markdown",
   "metadata": {},
   "source": [
    "### 7.数据集合和分组操作\n",
    "很多时候，我们会需要对批量的数据进行分组统计或者再处理，groupby，agg，apply就是用来做这件事的。\n",
    "\n",
    " - groupby将数据分组，分组后得到pandas.core.groupby.DataFrameGroupBy类型的数据。\n",
    " - agg用来进行合计操作，agg是aggregate的别名。\n",
    " - apply用来将函数func分组化并将结果组合在一起。\n",
    " \n",
    "这些概念都很抽象，我们还是通过代码来进行说明。"
   ]
  },
  {
   "cell_type": "code",
   "execution_count": 46,
   "metadata": {},
   "outputs": [
    {
     "name": "stdout",
     "output_type": "stream",
     "text": [
      "df=\n",
      "   Data Name\n",
      "0    85    A\n",
      "1    16    A\n",
      "2    23    A\n",
      "3    32    B\n",
      "4    70    B\n",
      "5    63    B\n",
      "6    72    C\n",
      "7    25    C\n",
      "8    43    C\n",
      "\n",
      "Print GroupBy:\n",
      "Name: A\n",
      "Group:\n",
      "   Data Name\n",
      "0    85    A\n",
      "1    16    A\n",
      "2    23    A\n",
      "\n",
      "Name: B\n",
      "Group:\n",
      "   Data Name\n",
      "3    32    B\n",
      "4    70    B\n",
      "5    63    B\n",
      "\n",
      "Name: C\n",
      "Group:\n",
      "   Data Name\n",
      "6    72    C\n",
      "7    25    C\n",
      "8    43    C\n",
      "\n"
     ]
    }
   ],
   "source": [
    "import pandas as pd\n",
    "import numpy as np\n",
    " \n",
    "df = pd.DataFrame({\n",
    "    'Name': ['A','A','A','B','B','B','C','C','C'],\n",
    "    'Data': np.random.randint(0, 100, 9)})\n",
    "print('df=\\n{}\\n'.format(df))\n",
    " \n",
    "groupby = df.groupby('Name')\n",
    " \n",
    "print(\"Print GroupBy:\")\n",
    "for name, group in groupby:\n",
    "    print(\"Name: {}\\nGroup:\\n{}\\n\".format(name, group))"
   ]
  },
  {
   "cell_type": "markdown",
   "metadata": {},
   "source": [
    "在这段代码中，我们生成了9个 \\[(0, 100)之间的随机数，数据的第一列是['A','A','A','B','B','B','C','C','C']。然后我们以Name列进行groupby，得到的结果会根据将Name列值一样的分组在一起，我们将得到的结果进行了打印。\n",
    "\n",
    "groupby并不是我们的最终目的，我们的目的是希望分组后还要对这些数据进行进一步的统计或者处理。pandas库本身就提供了很多进行操作的函数，例如：count，sum，mean，median，std，var，min，max，prod，first，last。这些函数的名称很容易明白它的作用。 例如：groupby.sum()就是对结果进行求和运行。 除了直接调用这些函数之外，我们也可以通过agg函数来达到这个目的，这个函数接收其他函数的名称，例如这样：groupby.agg(['sum'])。 通过agg函数，可以一次性调用多个函数，并且可以为结果列指定名称。 "
   ]
  },
  {
   "cell_type": "code",
   "execution_count": 49,
   "metadata": {},
   "outputs": [
    {
     "name": "stdout",
     "output_type": "stream",
     "text": [
      "      Data\n",
      "Name      \n",
      "A      124\n",
      "B      165\n",
      "C      140\n",
      "     Data\n",
      "      sum\n",
      "Name     \n",
      "A     124\n",
      "B     165\n",
      "C     140\n",
      "      Data    \n",
      "     Total Min\n",
      "Name          \n",
      "A      124  16\n",
      "B      165  32\n",
      "C      140  25\n"
     ]
    }
   ],
   "source": [
    "print(groupby.sum())\n",
    "print(groupby.agg(['sum']))\n",
    "print(groupby.agg([('Total', 'sum'), ('Min', 'min')]))"
   ]
  },
  {
   "cell_type": "markdown",
   "metadata": {},
   "source": [
    "除了对数据集合进行统计，我们也可以通过apply函数进行分组数据的处理。像这样："
   ]
  },
  {
   "cell_type": "code",
   "execution_count": 50,
   "metadata": {},
   "outputs": [
    {
     "name": "stdout",
     "output_type": "stream",
     "text": [
      "Sort Group: \n",
      "        Data\n",
      "Name        \n",
      "A    0    85\n",
      "     2    23\n",
      "     1    16\n",
      "B    4    70\n",
      "     5    63\n",
      "     3    32\n",
      "C    6    72\n",
      "     8    43\n",
      "     7    25\n",
      "\n"
     ]
    }
   ],
   "source": [
    "def sort(df):\n",
    "    return df.sort_values(by='Data', ascending=False)\n",
    " \n",
    "print(\"Sort Group: \\n{}\\n\".format(groupby.apply(sort)))"
   ]
  },
  {
   "cell_type": "markdown",
   "metadata": {},
   "source": [
    "### 8.时间相关\n",
    "时间是应用程序中很频繁需要处理的逻辑，尤其是对于金融，科技，商业等领域。 当我们在讨论时间，我们讨论的可能是下面三种情况中的一种：\n",
    "\n",
    "某个具体的时间点（Timestamp），例如：今天下午一点整\n",
    "某个时间范围（Period），例如：整个这个月\n",
    "某个时间间隔（Interval），例如：每周二上午七点整\n",
    "Python语言提供了时间日期相关的基本API，它们位于datetime, time, calendar几个模块中。下面是一个代码示例："
   ]
  },
  {
   "cell_type": "code",
   "execution_count": 51,
   "metadata": {},
   "outputs": [
    {
     "name": "stdout",
     "output_type": "stream",
     "text": [
      "Now is 2019-01-17 16:49:41.502170\n",
      "Yesterday is 2019-01-16\n",
      "\n"
     ]
    }
   ],
   "source": [
    "import datetime as dt\n",
    "import numpy as np\n",
    "import pandas as pd\n",
    " \n",
    "now = dt.datetime.now();\n",
    "print(\"Now is {}\".format(now))\n",
    " \n",
    "yesterday = now - dt.timedelta(1);\n",
    "print(\"Yesterday is {}\\n\".format(yesterday.strftime('%Y-%m-%d')))"
   ]
  },
  {
   "cell_type": "markdown",
   "metadata": {},
   "source": [
    "在这段代码中，我们打印了今天的日期，并通过timedelta进行了日期的减法运算。这段代码输出如下： 借助pandas提供的接口，我们可以很方便的获得以某个时间间隔的时间序列，例如这样："
   ]
  },
  {
   "cell_type": "code",
   "execution_count": 52,
   "metadata": {
    "scrolled": true
   },
   "outputs": [
    {
     "name": "stdout",
     "output_type": "stream",
     "text": [
      "Selected days in 2018: \n",
      "DatetimeIndex(['2018-01-01', '2018-01-06', '2018-01-11', '2018-01-16',\n",
      "               '2018-01-21', '2018-01-26', '2018-01-31', '2018-02-05',\n",
      "               '2018-02-10', '2018-02-15', '2018-02-20', '2018-02-25',\n",
      "               '2018-03-02', '2018-03-07', '2018-03-12', '2018-03-17',\n",
      "               '2018-03-22', '2018-03-27', '2018-04-01', '2018-04-06',\n",
      "               '2018-04-11', '2018-04-16', '2018-04-21', '2018-04-26',\n",
      "               '2018-05-01', '2018-05-06', '2018-05-11', '2018-05-16',\n",
      "               '2018-05-21', '2018-05-26', '2018-05-31', '2018-06-05',\n",
      "               '2018-06-10', '2018-06-15', '2018-06-20', '2018-06-25',\n",
      "               '2018-06-30', '2018-07-05', '2018-07-10', '2018-07-15',\n",
      "               '2018-07-20', '2018-07-25', '2018-07-30', '2018-08-04',\n",
      "               '2018-08-09', '2018-08-14', '2018-08-19', '2018-08-24',\n",
      "               '2018-08-29', '2018-09-03', '2018-09-08', '2018-09-13',\n",
      "               '2018-09-18', '2018-09-23', '2018-09-28', '2018-10-03',\n",
      "               '2018-10-08', '2018-10-13', '2018-10-18', '2018-10-23',\n",
      "               '2018-10-28', '2018-11-02', '2018-11-07', '2018-11-12',\n",
      "               '2018-11-17', '2018-11-22', '2018-11-27', '2018-12-02',\n",
      "               '2018-12-07', '2018-12-12', '2018-12-17', '2018-12-22',\n",
      "               '2018-12-27'],\n",
      "              dtype='datetime64[ns]', freq='5D')\n",
      "\n"
     ]
    }
   ],
   "source": [
    "this_year = pd.date_range(dt.datetime(2018, 1, 1),\n",
    "        dt.datetime(2018, 12, 31), freq='5D')\n",
    "print(\"Selected days in 2018: \\n{}\\n\".format(this_year))"
   ]
  },
  {
   "cell_type": "markdown",
   "metadata": {},
   "source": [
    "这段代码获取了整个2018年中从元旦开始，每隔5天的日期序列。 date_range函数的详细说明见这里：[pandas.date_range](http://pandas.pydata.org/pandas-docs/stable/generated/pandas.date_range.html)\n",
    "\n",
    "我们得到的返回值是DatetimeIndex类型的，我们可以创建一个DataFrame并以此作为索引："
   ]
  },
  {
   "cell_type": "code",
   "execution_count": 53,
   "metadata": {
    "scrolled": true
   },
   "outputs": [
    {
     "name": "stdout",
     "output_type": "stream",
     "text": [
      "Jan: \n",
      "             0\n",
      "2018-01-01  59\n",
      "2018-01-06  69\n",
      "2018-01-11  58\n",
      "2018-01-16   4\n",
      "2018-01-21   0\n",
      "2018-01-26  36\n",
      "2018-01-31  69\n",
      "\n"
     ]
    }
   ],
   "source": [
    "df = pd.DataFrame(np.random.randint(0, 100, this_year.size), index=this_year)\n",
    "print(\"Jan: \\n{}\\n\".format(df['2018-01']))"
   ]
  },
  {
   "cell_type": "markdown",
   "metadata": {},
   "source": [
    "在这段代码中，我们创建了与索引数量一样多的[0, 100)间的随机整数，并用this_year作为索引。用DatetimeIndex作索引的好处是，我们可以直接指定某个范围来选择数据，例如，通过df['2018-01']选出所有1月份的数据。"
   ]
  },
  {
   "cell_type": "markdown",
   "metadata": {},
   "source": [
    "### 9.图形展示\n",
    "pandas的图形展示依赖于matplotlib库。对于这个库，这里仅仅提供一个简单的代码示例，让大家感受一下图形展示的样子。 代码示例如下："
   ]
  },
  {
   "cell_type": "code",
   "execution_count": 65,
   "metadata": {},
   "outputs": [
    {
     "data": {
      "image/png": "[encoded data removed]",
      "text/plain": [
       "<matplotlib.figure.Figure at 0x2b26beeeb8>"
      ]
     },
     "metadata": {},
     "output_type": "display_data"
    }
   ],
   "source": [
    "import matplotlib.pyplot as plt\n",
    "import pandas as pd\n",
    "\n",
    "data = pd.read_csv('C:\\\\Users\\Xuewan\\Desktop\\housing.csv')\n",
    "data.hist(bins=50, figsize=(15, 12))\n",
    "plt.show()"
   ]
  },
  {
   "cell_type": "markdown",
   "metadata": {},
   "source": [
    "参考资料：\n",
    "\n",
    "http://python.jobbole.com/89081/?utm_source=blog.jobbole.com&utm_medium=relatedPosts\n",
    "\n",
    "https://www.cnblogs.com/zzhzhao/p/5269217.html"
   ]
  }
 ],
 "metadata": {
  "kernelspec": {
   "display_name": "Python 3",
   "language": "python",
   "name": "python3"
  },
  "language_info": {
   "codemirror_mode": {
    "name": "ipython",
    "version": 3
   },
   "file_extension": ".py",
   "mimetype": "text/x-python",
   "name": "python",
   "nbconvert_exporter": "python",
   "pygments_lexer": "ipython3",
   "version": "3.6.6"
  }
 },
 "nbformat": 4,
 "nbformat_minor": 2
}
