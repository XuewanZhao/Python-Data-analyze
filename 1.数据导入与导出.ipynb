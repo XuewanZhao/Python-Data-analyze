{
 "cells": [
  {
   "cell_type": "markdown",
   "metadata": {},
   "source": [
    "Python作为数据处理的常用语言，可以与多种数据来源对接，如csv,txt,excel等；同时也可以对接数据库，如MySQL。"
   ]
  },
  {
   "cell_type": "markdown",
   "metadata": {},
   "source": [
    "1.使用pandas包进行本地、在线数据读入。"
   ]
  },
  {
   "cell_type": "code",
   "execution_count": 1,
   "metadata": {},
   "outputs": [],
   "source": [
    "# 导入pandas包\n",
    "import pandas as pd\n",
    "\n",
    "# 读取本地文件\n",
    "#df1 = pd.read_csv('C://Users/template.csv')\n",
    "# 可使用read_excel, read_txt读取这两个类型的文件。\n",
    "\n",
    "# 读取在线文件\n",
    "data_url = \"https://raw.githubusercontent.com/mwaskom/seaborn-data/master/tips.csv\" \n",
    "#填写url读取\n",
    "df2 = pd.read_csv(data_url)\n"
   ]
  },
  {
   "cell_type": "markdown",
   "metadata": {},
   "source": [
    "参数详解：\n",
    "http://pandas.pydata.org/pandas-docs/stable/generated/pandas.read_csv.html"
   ]
  },
  {
   "cell_type": "markdown",
   "metadata": {},
   "source": [
    "2.读取MySQL数据库数据。"
   ]
  },
  {
   "cell_type": "code",
   "execution_count": 2,
   "metadata": {
    "scrolled": false
   },
   "outputs": [
    {
     "name": "stdout",
     "output_type": "stream",
     "text": [
      "(('animals',), ('boy',), ('comparasion',), ('datetime',), ('datetime2',), ('floats',), ('girl',), ('goods',), ('m',), ('member',), ('mod1',), ('sky',), ('stringcom',), ('stu',), ('students',), ('t',), ('timestamp1',), ('types',), ('union1',), ('union2',), ('year1',))\n",
      "   cat_id  cname  onsky\n",
      "0      95   lion      2\n",
      "1      96  tiger      1\n"
     ]
    }
   ],
   "source": [
    "import MySQLdb\n",
    "\n",
    "# 连接到 Mysql 数据库。\n",
    "mysql_cn = MySQLdb.connect(host = 'localhost', port = 3306, user = 'root',passwd = 'xz2102', db = 'xztest')\n",
    "\n",
    "# 使用cursor来执行mysql指令。\n",
    "cursor = mysql_cn.cursor()\n",
    "\n",
    "# 查看数据库中的表。\n",
    "cursor.execute('Show tables;')\n",
    "print(cursor.fetchall())\n",
    "\n",
    "# 将animals表中的内容储存在df3中并打印。\n",
    "df3 = pd.read_sql('select * from xztest.animals', con = mysql_cn)\n",
    "print(df3)\n",
    "\n",
    "# 关闭数据库。\n",
    "mysql_cn.close()"
   ]
  },
  {
   "cell_type": "markdown",
   "metadata": {},
   "source": [
    "3.将数据导出到csv, txt, excel.（注意，若有同名文件会被覆盖。）"
   ]
  },
  {
   "cell_type": "code",
   "execution_count": 3,
   "metadata": {},
   "outputs": [],
   "source": [
    "#df2.to_csv('C:\\\\demo.csv', encoding='utf-8', index=False) \n",
    "#index=False表示导出时去掉行名称，如果数据中含有中文，一般encoding指定为‘utf-8’"
   ]
  }
 ],
 "metadata": {
  "kernelspec": {
   "display_name": "Python 3",
   "language": "python",
   "name": "python3"
  },
  "language_info": {
   "codemirror_mode": {
    "name": "ipython",
    "version": 3
   },
   "file_extension": ".py",
   "mimetype": "text/x-python",
   "name": "python",
   "nbconvert_exporter": "python",
   "pygments_lexer": "ipython3",
   "version": "3.6.6"
  }
 },
 "nbformat": 4,
 "nbformat_minor": 2
}
